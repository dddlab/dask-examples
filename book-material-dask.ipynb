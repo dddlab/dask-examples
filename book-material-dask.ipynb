{
 "cells": [
  {
   "cell_type": "code",
   "execution_count": 1,
   "metadata": {},
   "outputs": [],
   "source": [
    "%matplotlib inline\n",
    "\n",
    "import wget\n",
    "import h5py\n",
    "\n",
    "# fname = wget.download('https://sandbox.zenodo.org/record/1027635/files/mnist.hdf5?download=1')\n",
    "fname = 'mnist.hdf5'\n",
    "f = h5py.File(fname)"
   ]
  },
  {
   "cell_type": "code",
   "execution_count": 2,
   "metadata": {},
   "outputs": [],
   "source": [
    "import dask.array as da\n",
    "import numpy as np\n",
    "from dask_ml.model_selection import train_test_split\n",
    "\n",
    "X = da.from_array(f['training-images'][0:20000], chunks=1000)\n",
    "y = da.from_array(f['training-labels'][0:20000], chunks=1000)\n",
    "\n",
    "X_train, X_test, y_train, y_test = \\\n",
    "    train_test_split(X, y, test_size=0.5, random_state=0)\n",
    "\n",
    "# X_test = da.from_array(f['training-images'][10000:20000], chunks=1000)\n",
    "# y_test = da.from_array(f['training-labels'][10000:20000], chunks=1000)\n",
    "\n",
    "# X = da.from_array(f['test-images'], chunks=1000)\n",
    "# y = da.from_array(f['test-labels'], chunks=1000)"
   ]
  },
  {
   "cell_type": "code",
   "execution_count": 3,
   "metadata": {},
   "outputs": [
    {
     "data": {
      "text/html": [
       "<table>\n",
       "    <tr>\n",
       "        <td>\n",
       "            <table>\n",
       "                <thead>\n",
       "                    <tr>\n",
       "                        <td> </td>\n",
       "                        <th> Array </th>\n",
       "                        <th> Chunk </th>\n",
       "                    </tr>\n",
       "                </thead>\n",
       "                <tbody>\n",
       "                    \n",
       "                    <tr>\n",
       "                        <th> Bytes </th>\n",
       "                        <td> 7.48 MiB </td>\n",
       "                        <td> 382.81 kiB </td>\n",
       "                    </tr>\n",
       "                    \n",
       "                    <tr>\n",
       "                        <th> Shape </th>\n",
       "                        <td> (10000, 784) </td>\n",
       "                        <td> (500, 784) </td>\n",
       "                    </tr>\n",
       "                    <tr>\n",
       "                        <th> Count </th>\n",
       "                        <td> 140 Tasks </td>\n",
       "                        <td> 20 Chunks </td>\n",
       "                    </tr>\n",
       "                    <tr>\n",
       "                    <th> Type </th>\n",
       "                    <td> uint8 </td>\n",
       "                    <td> numpy.ndarray </td>\n",
       "                    </tr>\n",
       "                </tbody>\n",
       "            </table>\n",
       "        </td>\n",
       "        <td>\n",
       "        <svg width=\"87\" height=\"170\" style=\"stroke:rgb(0,0,0);stroke-width:1\" >\n",
       "\n",
       "  <!-- Horizontal lines -->\n",
       "  <line x1=\"0\" y1=\"0\" x2=\"37\" y2=\"0\" style=\"stroke-width:2\" />\n",
       "  <line x1=\"0\" y1=\"6\" x2=\"37\" y2=\"6\" />\n",
       "  <line x1=\"0\" y1=\"12\" x2=\"37\" y2=\"12\" />\n",
       "  <line x1=\"0\" y1=\"18\" x2=\"37\" y2=\"18\" />\n",
       "  <line x1=\"0\" y1=\"24\" x2=\"37\" y2=\"24\" />\n",
       "  <line x1=\"0\" y1=\"30\" x2=\"37\" y2=\"30\" />\n",
       "  <line x1=\"0\" y1=\"36\" x2=\"37\" y2=\"36\" />\n",
       "  <line x1=\"0\" y1=\"42\" x2=\"37\" y2=\"42\" />\n",
       "  <line x1=\"0\" y1=\"48\" x2=\"37\" y2=\"48\" />\n",
       "  <line x1=\"0\" y1=\"54\" x2=\"37\" y2=\"54\" />\n",
       "  <line x1=\"0\" y1=\"60\" x2=\"37\" y2=\"60\" />\n",
       "  <line x1=\"0\" y1=\"66\" x2=\"37\" y2=\"66\" />\n",
       "  <line x1=\"0\" y1=\"72\" x2=\"37\" y2=\"72\" />\n",
       "  <line x1=\"0\" y1=\"78\" x2=\"37\" y2=\"78\" />\n",
       "  <line x1=\"0\" y1=\"84\" x2=\"37\" y2=\"84\" />\n",
       "  <line x1=\"0\" y1=\"90\" x2=\"37\" y2=\"90\" />\n",
       "  <line x1=\"0\" y1=\"96\" x2=\"37\" y2=\"96\" />\n",
       "  <line x1=\"0\" y1=\"102\" x2=\"37\" y2=\"102\" />\n",
       "  <line x1=\"0\" y1=\"108\" x2=\"37\" y2=\"108\" />\n",
       "  <line x1=\"0\" y1=\"120\" x2=\"37\" y2=\"120\" style=\"stroke-width:2\" />\n",
       "\n",
       "  <!-- Vertical lines -->\n",
       "  <line x1=\"0\" y1=\"0\" x2=\"0\" y2=\"120\" style=\"stroke-width:2\" />\n",
       "  <line x1=\"37\" y1=\"0\" x2=\"37\" y2=\"120\" style=\"stroke-width:2\" />\n",
       "\n",
       "  <!-- Colored Rectangle -->\n",
       "  <polygon points=\"0.0,0.0 37.20860152992492,0.0 37.20860152992492,120.0 0.0,120.0\" style=\"fill:#8B4903A0;stroke-width:0\"/>\n",
       "\n",
       "  <!-- Text -->\n",
       "  <text x=\"18.604301\" y=\"140.000000\" font-size=\"1.0rem\" font-weight=\"100\" text-anchor=\"middle\" >784</text>\n",
       "  <text x=\"57.208602\" y=\"60.000000\" font-size=\"1.0rem\" font-weight=\"100\" text-anchor=\"middle\" transform=\"rotate(-90,57.208602,60.000000)\">10000</text>\n",
       "</svg>\n",
       "        </td>\n",
       "    </tr>\n",
       "</table>"
      ],
      "text/plain": [
       "dask.array<concatenate, shape=(10000, 784), dtype=uint8, chunksize=(500, 784), chunktype=numpy.ndarray>"
      ]
     },
     "execution_count": 3,
     "metadata": {},
     "output_type": "execute_result"
    }
   ],
   "source": [
    "X_train"
   ]
  },
  {
   "cell_type": "code",
   "execution_count": 4,
   "metadata": {},
   "outputs": [
    {
     "data": {
      "text/html": [
       "<div>\n",
       "    <div style=\"width: 24px; height: 24px; background-color: #e1e1e1; border: 3px solid #9D9D9D; border-radius: 5px; position: absolute;\"> </div>\n",
       "    <div style=\"margin-left: 48px;\">\n",
       "        <h3 style=\"margin-bottom: 0px;\">Client</h3>\n",
       "        <p style=\"color: #9D9D9D; margin-bottom: 0px;\">Client-321294eb-9cbc-11ec-853c-cbf62223a3be</p>\n",
       "        <table style=\"width: 100%; text-align: left;\">\n",
       "\n",
       "        <tr>\n",
       "        \n",
       "            <td style=\"text-align: left;\"><strong>Connection method:</strong> Cluster object</td>\n",
       "            <td style=\"text-align: left;\"><strong>Cluster type:</strong> distributed.LocalCluster</td>\n",
       "        \n",
       "        </tr>\n",
       "\n",
       "        \n",
       "            <tr>\n",
       "                <td style=\"text-align: left;\">\n",
       "                    <strong>Dashboard: </strong> <a href=\"http://192.168.192.2:8787/status\" target=\"_blank\">http://192.168.192.2:8787/status</a>\n",
       "                </td>\n",
       "                <td style=\"text-align: left;\"></td>\n",
       "            </tr>\n",
       "        \n",
       "\n",
       "        </table>\n",
       "\n",
       "        \n",
       "            <details>\n",
       "            <summary style=\"margin-bottom: 20px;\"><h3 style=\"display: inline;\">Cluster Info</h3></summary>\n",
       "            <div class=\"jp-RenderedHTMLCommon jp-RenderedHTML jp-mod-trusted jp-OutputArea-output\">\n",
       "    <div style=\"width: 24px; height: 24px; background-color: #e1e1e1; border: 3px solid #9D9D9D; border-radius: 5px; position: absolute;\">\n",
       "    </div>\n",
       "    <div style=\"margin-left: 48px;\">\n",
       "        <h3 style=\"margin-bottom: 0px; margin-top: 0px;\">LocalCluster</h3>\n",
       "        <p style=\"color: #9D9D9D; margin-bottom: 0px;\">4a197801</p>\n",
       "        <table style=\"width: 100%; text-align: left;\">\n",
       "            <tr>\n",
       "                <td style=\"text-align: left;\">\n",
       "                    <strong>Dashboard:</strong> <a href=\"http://192.168.192.2:8787/status\" target=\"_blank\">http://192.168.192.2:8787/status</a>\n",
       "                </td>\n",
       "                <td style=\"text-align: left;\">\n",
       "                    <strong>Workers:</strong> 1\n",
       "                </td>\n",
       "            </tr>\n",
       "            <tr>\n",
       "                <td style=\"text-align: left;\">\n",
       "                    <strong>Total threads:</strong> 4\n",
       "                </td>\n",
       "                <td style=\"text-align: left;\">\n",
       "                    <strong>Total memory:</strong> 3.73 GiB\n",
       "                </td>\n",
       "            </tr>\n",
       "            \n",
       "            <tr>\n",
       "    <td style=\"text-align: left;\"><strong>Status:</strong> running</td>\n",
       "    <td style=\"text-align: left;\"><strong>Using processes:</strong> False</td>\n",
       "</tr>\n",
       "\n",
       "            \n",
       "        </table>\n",
       "\n",
       "        <details>\n",
       "            <summary style=\"margin-bottom: 20px;\">\n",
       "                <h3 style=\"display: inline;\">Scheduler Info</h3>\n",
       "            </summary>\n",
       "\n",
       "            <div style=\"\">\n",
       "    <div>\n",
       "        <div style=\"width: 24px; height: 24px; background-color: #FFF7E5; border: 3px solid #FF6132; border-radius: 5px; position: absolute;\"> </div>\n",
       "        <div style=\"margin-left: 48px;\">\n",
       "            <h3 style=\"margin-bottom: 0px;\">Scheduler</h3>\n",
       "            <p style=\"color: #9D9D9D; margin-bottom: 0px;\">Scheduler-0a064004-ec28-4955-9781-f6b229953fa3</p>\n",
       "            <table style=\"width: 100%; text-align: left;\">\n",
       "                <tr>\n",
       "                    <td style=\"text-align: left;\">\n",
       "                        <strong>Comm:</strong> inproc://192.168.192.2/17724/1\n",
       "                    </td>\n",
       "                    <td style=\"text-align: left;\">\n",
       "                        <strong>Workers:</strong> 1\n",
       "                    </td>\n",
       "                </tr>\n",
       "                <tr>\n",
       "                    <td style=\"text-align: left;\">\n",
       "                        <strong>Dashboard:</strong> <a href=\"http://192.168.192.2:8787/status\" target=\"_blank\">http://192.168.192.2:8787/status</a>\n",
       "                    </td>\n",
       "                    <td style=\"text-align: left;\">\n",
       "                        <strong>Total threads:</strong> 4\n",
       "                    </td>\n",
       "                </tr>\n",
       "                <tr>\n",
       "                    <td style=\"text-align: left;\">\n",
       "                        <strong>Started:</strong> Just now\n",
       "                    </td>\n",
       "                    <td style=\"text-align: left;\">\n",
       "                        <strong>Total memory:</strong> 3.73 GiB\n",
       "                    </td>\n",
       "                </tr>\n",
       "            </table>\n",
       "        </div>\n",
       "    </div>\n",
       "\n",
       "    <details style=\"margin-left: 48px;\">\n",
       "        <summary style=\"margin-bottom: 20px;\">\n",
       "            <h3 style=\"display: inline;\">Workers</h3>\n",
       "        </summary>\n",
       "\n",
       "        \n",
       "        <div style=\"margin-bottom: 20px;\">\n",
       "            <div style=\"width: 24px; height: 24px; background-color: #DBF5FF; border: 3px solid #4CC9FF; border-radius: 5px; position: absolute;\"> </div>\n",
       "            <div style=\"margin-left: 48px;\">\n",
       "            <details>\n",
       "                <summary>\n",
       "                    <h4 style=\"margin-bottom: 0px; display: inline;\">Worker: 0</h4>\n",
       "                </summary>\n",
       "                <table style=\"width: 100%; text-align: left;\">\n",
       "                    <tr>\n",
       "                        <td style=\"text-align: left;\">\n",
       "                            <strong>Comm: </strong> inproc://192.168.192.2/17724/4\n",
       "                        </td>\n",
       "                        <td style=\"text-align: left;\">\n",
       "                            <strong>Total threads: </strong> 4\n",
       "                        </td>\n",
       "                    </tr>\n",
       "                    <tr>\n",
       "                        <td style=\"text-align: left;\">\n",
       "                            <strong>Dashboard: </strong> <a href=\"http://192.168.192.2:42827/status\" target=\"_blank\">http://192.168.192.2:42827/status</a>\n",
       "                        </td>\n",
       "                        <td style=\"text-align: left;\">\n",
       "                            <strong>Memory: </strong> 3.73 GiB\n",
       "                        </td>\n",
       "                    </tr>\n",
       "                    <tr>\n",
       "                        <td style=\"text-align: left;\">\n",
       "                            <strong>Nanny: </strong> None\n",
       "                        </td>\n",
       "                        <td style=\"text-align: left;\"></td>\n",
       "                    </tr>\n",
       "                    <tr>\n",
       "                        <td colspan=\"2\" style=\"text-align: left;\">\n",
       "                            <strong>Local directory: </strong> /home/jovyan/work/dask-worker-space/worker-exje9r8k\n",
       "                        </td>\n",
       "                    </tr>\n",
       "\n",
       "                    \n",
       "\n",
       "                    \n",
       "\n",
       "                </table>\n",
       "            </details>\n",
       "            </div>\n",
       "        </div>\n",
       "        \n",
       "\n",
       "    </details>\n",
       "</div>\n",
       "\n",
       "        </details>\n",
       "    </div>\n",
       "</div>\n",
       "            </details>\n",
       "        \n",
       "\n",
       "    </div>\n",
       "</div>"
      ],
      "text/plain": [
       "<Client: 'inproc://192.168.192.2/17724/1' processes=1 threads=4, memory=3.73 GiB>"
      ]
     },
     "execution_count": 4,
     "metadata": {},
     "output_type": "execute_result"
    }
   ],
   "source": [
    "from dask.distributed import Client, progress\n",
    "from joblib import parallel_backend\n",
    "\n",
    "client = Client(processes=False, threads_per_worker=4,\n",
    "                n_workers=1, memory_limit='4GB')\n",
    "client\n"
   ]
  },
  {
   "cell_type": "code",
   "execution_count": 5,
   "metadata": {},
   "outputs": [
    {
     "name": "stdout",
     "output_type": "stream",
     "text": [
      "0.9467\n"
     ]
    }
   ],
   "source": [
    "from sklearn.ensemble import RandomForestClassifier\n",
    "\n",
    "yhat_test = dict()\n",
    "\n",
    "with parallel_backend('dask'):\n",
    "\n",
    "    clf = RandomForestClassifier()\n",
    "\n",
    "    clf.fit(X_train, y_train)\n",
    "\n",
    "    yhat_test['RandomForest'] = clf.predict(X_test)\n",
    "\n",
    "print((yhat_test['RandomForest'] == y_test).mean().compute())\n",
    "\n",
    "import pandas as pd\n",
    "grp_test = pd.Series(yhat_test['RandomForest'].astype('str'), dtype='category')"
   ]
  },
  {
   "cell_type": "code",
   "execution_count": 6,
   "metadata": {},
   "outputs": [
    {
     "data": {
      "image/png": "[encoded data removed]",
      "text/plain": [
       "<Figure size 720x576 with 2 Axes>"
      ]
     },
     "metadata": {
      "needs_background": "light"
     },
     "output_type": "display_data"
    }
   ],
   "source": [
    "from sklearn.metrics import ConfusionMatrixDisplay\n",
    "\n",
    "disp = ConfusionMatrixDisplay.from_predictions(y_test.astype('str'), grp_test)\n",
    "disp.figure_.suptitle(\"Confusion Matrix\")\n",
    "disp.figure_.set_size_inches((10, 8))\n",
    "disp.ax_.set_xlabel('Cluster membership');"
   ]
  },
  {
   "cell_type": "code",
   "execution_count": 7,
   "metadata": {},
   "outputs": [
    {
     "data": {
      "text/plain": [
       "{'bootstrap': True,\n",
       " 'ccp_alpha': 0.0,\n",
       " 'class_weight': None,\n",
       " 'criterion': 'gini',\n",
       " 'max_depth': None,\n",
       " 'max_features': 'auto',\n",
       " 'max_leaf_nodes': None,\n",
       " 'max_samples': None,\n",
       " 'min_impurity_decrease': 0.0,\n",
       " 'min_samples_leaf': 1,\n",
       " 'min_samples_split': 2,\n",
       " 'min_weight_fraction_leaf': 0.0,\n",
       " 'n_estimators': 100,\n",
       " 'n_jobs': None,\n",
       " 'oob_score': False,\n",
       " 'random_state': None,\n",
       " 'verbose': 0,\n",
       " 'warm_start': False}"
      ]
     },
     "execution_count": 7,
     "metadata": {},
     "output_type": "execute_result"
    }
   ],
   "source": [
    "param_grid = clf.get_params()\n",
    "# param_grid.update({\n",
    "#     # 'max_features': ['sqrt', 'log2'],\n",
    "#     'n_estimators': [100, 200],\n",
    "#     'min_samples_leaf': [1, 3]\n",
    "# })\n",
    "param_grid"
   ]
  },
  {
   "cell_type": "code",
   "execution_count": 8,
   "metadata": {},
   "outputs": [
    {
     "name": "stdout",
     "output_type": "stream",
     "text": [
      "{'algorithm': 'auto', 'leaf_size': 30, 'metric': 'minkowski', 'metric_params': None, 'n_jobs': None, 'n_neighbors': 3, 'p': 2, 'weights': 'distance'}\n",
      "0.9543\n"
     ]
    }
   ],
   "source": [
    "from dask_ml.model_selection import GridSearchCV\n",
    "\n",
    "from sklearn.svm import SVC\n",
    "estimator = SVC(gamma='auto', random_state=0, probability=True)\n",
    "param_grid = {\n",
    "    'C': [0.001, 10.0],\n",
    "    'kernel': ['rbf', 'poly'],\n",
    "}\n",
    "\n",
    "from sklearn.ensemble import RandomForestClassifier\n",
    "estimator = RandomForestClassifier(n_estimators=200, min_samples_split=3)\n",
    "param_grid = {\n",
    "    'min_samples_leaf': [1, 3, 5]\n",
    "}\n",
    "\n",
    "from sklearn.neighbors import NearestCentroid, KNeighborsClassifier\n",
    "estimator = KNeighborsClassifier()\n",
    "param_grid = {\n",
    "    'n_neighbors': [2, 3, 4],\n",
    "    'weights': ['uniform', 'distance'],\n",
    "}\n",
    "# param_grid = {}\n",
    "\n",
    "grid_search = GridSearchCV(estimator,\n",
    "                param_grid=param_grid,\n",
    "                return_train_score=False,\n",
    "                cv=3)\n",
    "\n",
    "# with parallel_backend('dask'):\n",
    "# with parallel_backend('dask', scatter=[X_train, y_train]):\n",
    "\n",
    "grid_search.fit(X_train, y_train)\n",
    "\n",
    "print(grid_search.best_estimator_.get_params())\n",
    "\n",
    "yhat_test = grid_search.best_estimator_.predict(X_test)\n",
    "\n",
    "print((yhat_test == y_test).mean().compute())"
   ]
  },
  {
   "cell_type": "code",
   "execution_count": 6,
   "metadata": {},
   "outputs": [
    {
     "data": {
      "text/html": [
       "<div>\n",
       "<style scoped>\n",
       "    .dataframe tbody tr th:only-of-type {\n",
       "        vertical-align: middle;\n",
       "    }\n",
       "\n",
       "    .dataframe tbody tr th {\n",
       "        vertical-align: top;\n",
       "    }\n",
       "\n",
       "    .dataframe thead th {\n",
       "        text-align: right;\n",
       "    }\n",
       "</style>\n",
       "<table border=\"1\" class=\"dataframe\">\n",
       "  <thead>\n",
       "    <tr style=\"text-align: right;\">\n",
       "      <th></th>\n",
       "      <th>mean_fit_time</th>\n",
       "      <th>std_fit_time</th>\n",
       "      <th>mean_score_time</th>\n",
       "      <th>std_score_time</th>\n",
       "      <th>param_bootstrap</th>\n",
       "      <th>param_max_depth</th>\n",
       "      <th>param_max_features</th>\n",
       "      <th>param_min_samples_leaf</th>\n",
       "      <th>param_min_samples_split</th>\n",
       "      <th>param_n_estimators</th>\n",
       "      <th>params</th>\n",
       "      <th>split0_test_score</th>\n",
       "      <th>split1_test_score</th>\n",
       "      <th>split2_test_score</th>\n",
       "      <th>mean_test_score</th>\n",
       "      <th>std_test_score</th>\n",
       "      <th>rank_test_score</th>\n",
       "    </tr>\n",
       "  </thead>\n",
       "  <tbody>\n",
       "    <tr>\n",
       "      <th>0</th>\n",
       "      <td>9.190221</td>\n",
       "      <td>0.503070</td>\n",
       "      <td>1.453431</td>\n",
       "      <td>0.049686</td>\n",
       "      <td>True</td>\n",
       "      <td>8</td>\n",
       "      <td>2</td>\n",
       "      <td>4</td>\n",
       "      <td>8</td>\n",
       "      <td>50</td>\n",
       "      <td>{'bootstrap': True, 'max_depth': 8, 'max_featu...</td>\n",
       "      <td>0.820036</td>\n",
       "      <td>0.842484</td>\n",
       "      <td>0.825983</td>\n",
       "      <td>0.829501</td>\n",
       "      <td>0.009496</td>\n",
       "      <td>32</td>\n",
       "    </tr>\n",
       "    <tr>\n",
       "      <th>1</th>\n",
       "      <td>16.065313</td>\n",
       "      <td>0.175703</td>\n",
       "      <td>1.605564</td>\n",
       "      <td>0.081918</td>\n",
       "      <td>True</td>\n",
       "      <td>8</td>\n",
       "      <td>2</td>\n",
       "      <td>4</td>\n",
       "      <td>8</td>\n",
       "      <td>100</td>\n",
       "      <td>{'bootstrap': True, 'max_depth': 8, 'max_featu...</td>\n",
       "      <td>0.843431</td>\n",
       "      <td>0.864686</td>\n",
       "      <td>0.842784</td>\n",
       "      <td>0.850301</td>\n",
       "      <td>0.010176</td>\n",
       "      <td>23</td>\n",
       "    </tr>\n",
       "    <tr>\n",
       "      <th>2</th>\n",
       "      <td>8.686454</td>\n",
       "      <td>0.281036</td>\n",
       "      <td>1.502438</td>\n",
       "      <td>0.149789</td>\n",
       "      <td>True</td>\n",
       "      <td>8</td>\n",
       "      <td>2</td>\n",
       "      <td>4</td>\n",
       "      <td>10</td>\n",
       "      <td>50</td>\n",
       "      <td>{'bootstrap': True, 'max_depth': 8, 'max_featu...</td>\n",
       "      <td>0.830834</td>\n",
       "      <td>0.853285</td>\n",
       "      <td>0.830783</td>\n",
       "      <td>0.838301</td>\n",
       "      <td>0.010596</td>\n",
       "      <td>29</td>\n",
       "    </tr>\n",
       "    <tr>\n",
       "      <th>3</th>\n",
       "      <td>15.855504</td>\n",
       "      <td>0.022555</td>\n",
       "      <td>1.693100</td>\n",
       "      <td>0.098319</td>\n",
       "      <td>True</td>\n",
       "      <td>8</td>\n",
       "      <td>2</td>\n",
       "      <td>4</td>\n",
       "      <td>10</td>\n",
       "      <td>100</td>\n",
       "      <td>{'bootstrap': True, 'max_depth': 8, 'max_featu...</td>\n",
       "      <td>0.843731</td>\n",
       "      <td>0.864686</td>\n",
       "      <td>0.842184</td>\n",
       "      <td>0.850201</td>\n",
       "      <td>0.010262</td>\n",
       "      <td>24</td>\n",
       "    </tr>\n",
       "    <tr>\n",
       "      <th>4</th>\n",
       "      <td>8.816383</td>\n",
       "      <td>0.198037</td>\n",
       "      <td>1.370730</td>\n",
       "      <td>0.195908</td>\n",
       "      <td>True</td>\n",
       "      <td>8</td>\n",
       "      <td>2</td>\n",
       "      <td>5</td>\n",
       "      <td>8</td>\n",
       "      <td>50</td>\n",
       "      <td>{'bootstrap': True, 'max_depth': 8, 'max_featu...</td>\n",
       "      <td>0.830534</td>\n",
       "      <td>0.842184</td>\n",
       "      <td>0.830783</td>\n",
       "      <td>0.834500</td>\n",
       "      <td>0.005434</td>\n",
       "      <td>31</td>\n",
       "    </tr>\n",
       "  </tbody>\n",
       "</table>\n",
       "</div>"
      ],
      "text/plain": [
       "   mean_fit_time  std_fit_time  mean_score_time  std_score_time  \\\n",
       "0       9.190221      0.503070         1.453431        0.049686   \n",
       "1      16.065313      0.175703         1.605564        0.081918   \n",
       "2       8.686454      0.281036         1.502438        0.149789   \n",
       "3      15.855504      0.022555         1.693100        0.098319   \n",
       "4       8.816383      0.198037         1.370730        0.195908   \n",
       "\n",
       "  param_bootstrap param_max_depth param_max_features param_min_samples_leaf  \\\n",
       "0            True               8                  2                      4   \n",
       "1            True               8                  2                      4   \n",
       "2            True               8                  2                      4   \n",
       "3            True               8                  2                      4   \n",
       "4            True               8                  2                      5   \n",
       "\n",
       "  param_min_samples_split param_n_estimators  \\\n",
       "0                       8                 50   \n",
       "1                       8                100   \n",
       "2                      10                 50   \n",
       "3                      10                100   \n",
       "4                       8                 50   \n",
       "\n",
       "                                              params  split0_test_score  \\\n",
       "0  {'bootstrap': True, 'max_depth': 8, 'max_featu...           0.820036   \n",
       "1  {'bootstrap': True, 'max_depth': 8, 'max_featu...           0.843431   \n",
       "2  {'bootstrap': True, 'max_depth': 8, 'max_featu...           0.830834   \n",
       "3  {'bootstrap': True, 'max_depth': 8, 'max_featu...           0.843731   \n",
       "4  {'bootstrap': True, 'max_depth': 8, 'max_featu...           0.830534   \n",
       "\n",
       "   split1_test_score  split2_test_score  mean_test_score  std_test_score  \\\n",
       "0           0.842484           0.825983         0.829501        0.009496   \n",
       "1           0.864686           0.842784         0.850301        0.010176   \n",
       "2           0.853285           0.830783         0.838301        0.010596   \n",
       "3           0.864686           0.842184         0.850201        0.010262   \n",
       "4           0.842184           0.830783         0.834500        0.005434   \n",
       "\n",
       "   rank_test_score  \n",
       "0               32  \n",
       "1               23  \n",
       "2               29  \n",
       "3               24  \n",
       "4               31  "
      ]
     },
     "execution_count": 6,
     "metadata": {},
     "output_type": "execute_result"
    }
   ],
   "source": [
    "import pandas as pd\n",
    "pd.DataFrame(grid_search.cv_results_).head()"
   ]
  },
  {
   "cell_type": "code",
   "execution_count": 9,
   "metadata": {},
   "outputs": [
    {
     "name": "stdout",
     "output_type": "stream",
     "text": [
      "CPU times: user 1min 2s, sys: 54.4 s, total: 1min 56s\n",
      "Wall time: 22.3 s\n"
     ]
    },
    {
     "data": {
      "text/plain": [
       "array([0, 0, 4, 4, 8, 2, 2, 8, 7, 3], dtype=int32)"
      ]
     },
     "execution_count": 9,
     "metadata": {},
     "output_type": "execute_result"
    }
   ],
   "source": [
    "from dask_ml.cluster import KMeans\n",
    "clf = KMeans(init='k-means++', n_clusters=10, init_max_iter=4, random_state=0)\n",
    "%time clf.fit(X_train)\n",
    "clf.labels_\n",
    "clf.labels_[:10].compute()"
   ]
  },
  {
   "cell_type": "code",
   "execution_count": null,
   "metadata": {},
   "outputs": [],
   "source": [
    "def plot_digits(X_, y_, num_figs, y_caption='True label'):\n",
    "\n",
    "    from matplotlib.pyplot import figure\n",
    "    from numpy import ceil\n",
    "\n",
    "    num_rows = ceil(num_figs/5).astype(int)\n",
    "\n",
    "    fig = figure(figsize=(20, 4.8*num_rows))\n",
    "\n",
    "    for j, ((i, img), (i, lab)) in enumerate(zip(X_.iterrows(), y_.iteritems())):\n",
    "\n",
    "        tf = fig.add_subplot(num_rows, 5, j+1)\n",
    "        tf.matshow(img.values.reshape((28, -1)), cmap='gray')\n",
    "        tf.set_title('%s: %s\\n' % (y_caption, lab), fontsize = 20)\n",
    "\n",
    "        if j+1 == num_figs: break"
   ]
  },
  {
   "cell_type": "code",
   "execution_count": null,
   "metadata": {},
   "outputs": [
    {
     "data": {
      "image/png": "[encoded data removed]",
      "text/plain": [
       "<Figure size 1440x691.2 with 10 Axes>"
      ]
     },
     "metadata": {
      "needs_background": "light"
     },
     "output_type": "display_data"
    }
   ],
   "source": [
    "plot_digits(X_train, y_train, 10)"
   ]
  },
  {
   "cell_type": "code",
   "execution_count": 14,
   "metadata": {},
   "outputs": [
    {
     "name": "stdout",
     "output_type": "stream",
     "text": [
      "0.9483\n"
     ]
    }
   ],
   "source": [
    "from sklearn.ensemble import RandomForestClassifier\n",
    "\n",
    "yhat_test = dict()\n",
    "\n",
    "# module loading\n",
    "clf = RandomForestClassifier()\n",
    "\n",
    "clf.fit(X_train, y_train)\n",
    "\n",
    "yhat_test['RandomForest'] = clf.predict(X_test)\n",
    "\n",
    "print((yhat_test['RandomForest'] == y_test).mean().compute())"
   ]
  },
  {
   "cell_type": "code",
   "execution_count": 15,
   "metadata": {},
   "outputs": [
    {
     "data": {
      "image/png": "[encoded data removed]",
      "text/plain": [
       "<Figure size 720x576 with 2 Axes>"
      ]
     },
     "metadata": {
      "needs_background": "light"
     },
     "output_type": "display_data"
    }
   ],
   "source": [
    "from sklearn.metrics import ConfusionMatrixDisplay\n",
    "\n",
    "disp = ConfusionMatrixDisplay.from_predictions(y_test, yhat_test['RandomForest'])\n",
    "disp.figure_.suptitle(\"Confusion Matrix\")\n",
    "disp.figure_.set_size_inches((10, 8));"
   ]
  },
  {
   "cell_type": "code",
   "execution_count": null,
   "metadata": {},
   "outputs": [
    {
     "name": "stdout",
     "output_type": "stream",
     "text": [
      "Majority of points in cluster 0 have label 1\n",
      "Majority of points in cluster 1 have label 1\n",
      "Majority of points in cluster 2 have label 3\n",
      "Majority of points in cluster 3 have label 0\n",
      "Majority of points in cluster 4 have label 7\n",
      "Majority of points in cluster 5 have label 2\n",
      "Majority of points in cluster 6 have label 6\n",
      "Majority of points in cluster 7 have label 4\n",
      "Majority of points in cluster 8 have label 4\n",
      "Majority of points in cluster 9 have label 8\n"
     ]
    }
   ],
   "source": [
    "import numpy as np\n",
    "\n",
    "cluster_label = dict()\n",
    "for one in np.unique(grp_test):\n",
    "    majority = y_test[(grp_test==one).values].value_counts()\n",
    "    print('Majority of points in cluster', one, 'have label', majority.idxmax())\n",
    "    cluster_label[str(one)] = majority.idxmax()"
   ]
  },
  {
   "cell_type": "code",
   "execution_count": null,
   "metadata": {},
   "outputs": [],
   "source": [
    "def subset_images(data, true_labels, cluster_assignment, digit, cluster):\n",
    "\n",
    "    cond = (cluster_assignment == cluster).values & (true_labels == digit).values\n",
    "\n",
    "    return data[cond], true_labels[cond], cluster_assignment[cond]\n"
   ]
  },
  {
   "cell_type": "code",
   "execution_count": null,
   "metadata": {},
   "outputs": [
    {
     "data": {
      "image/png": "[encoded data removed]",
      "text/plain": [
       "<Figure size 1440x345.6 with 5 Axes>"
      ]
     },
     "metadata": {
      "needs_background": "light"
     },
     "output_type": "display_data"
    }
   ],
   "source": [
    "# upright\n",
    "d, l, c = subset_images(X_test, y_test, grp_test, '1', '0')\n",
    "plot_digits(d, c, 5, 'cluster')"
   ]
  },
  {
   "cell_type": "code",
   "execution_count": null,
   "metadata": {},
   "outputs": [
    {
     "data": {
      "image/png": "[encoded data removed]",
      "text/plain": [
       "<Figure size 1440x345.6 with 5 Axes>"
      ]
     },
     "metadata": {
      "needs_background": "light"
     },
     "output_type": "display_data"
    }
   ],
   "source": [
    "# slanted\n",
    "d, l, c = subset_images(X_test, y_test, grp_test, '1', '1')\n",
    "plot_digits(d, c, 5, 'cluster')"
   ]
  },
  {
   "cell_type": "code",
   "execution_count": null,
   "metadata": {},
   "outputs": [
    {
     "data": {
      "image/png": "[encoded data removed]",
      "text/plain": [
       "<Figure size 1440x345.6 with 2 Axes>"
      ]
     },
     "metadata": {
      "needs_background": "light"
     },
     "output_type": "display_data"
    }
   ],
   "source": [
    "# fancy\n",
    "d, l, c = subset_images(X_test, y_test, grp_test, '1', '2')\n",
    "plot_digits(d, c, 5, 'cluster')"
   ]
  },
  {
   "cell_type": "code",
   "execution_count": null,
   "metadata": {},
   "outputs": [
    {
     "data": {
      "image/png": "[encoded data removed]",
      "text/plain": [
       "<Figure size 1440x345.6 with 1 Axes>"
      ]
     },
     "metadata": {
      "needs_background": "light"
     },
     "output_type": "display_data"
    }
   ],
   "source": [
    "# fancy upright\n",
    "d, l, c = subset_images(X_test, y_test, grp_test, '1', '9')\n",
    "plot_digits(d, c, 5, 'cluster')"
   ]
  }
 ],
 "metadata": {
  "interpreter": {
   "hash": "d4d1e4263499bec80672ea0156c357c1ee493ec2b1c70f0acce89fc37c4a6abe"
  },
  "kernelspec": {
   "display_name": "Python 3 (ipykernel)",
   "language": "python",
   "name": "python3"
  },
  "language_info": {
   "codemirror_mode": {
    "name": "ipython",
    "version": 3
   },
   "file_extension": ".py",
   "mimetype": "text/x-python",
   "name": "python",
   "nbconvert_exporter": "python",
   "pygments_lexer": "ipython3",
   "version": "3.9.7"
  }
 },
 "nbformat": 4,
 "nbformat_minor": 4
}
